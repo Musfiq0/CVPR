{
 "cells": [
  {
   "cell_type": "code",
   "execution_count": 4,
   "metadata": {},
   "outputs": [],
   "source": [
    "import numpy as np"
   ]
  },
  {
   "attachments": {},
   "cell_type": "markdown",
   "metadata": {},
   "source": [
    "List Operations"
   ]
  },
  {
   "cell_type": "code",
   "execution_count": 22,
   "metadata": {},
   "outputs": [
    {
     "name": "stdout",
     "output_type": "stream",
     "text": [
      "List Operations:\n",
      "Sum of Numbers: 440\n"
     ]
    }
   ],
   "source": [
    "numbers = np.arange(1, 11)  # array of integers from 1 to 10\n",
    "squared_numbers = np.square(numbers)  # square each number using square function\n",
    "numbers_append = np.append(numbers, squared_numbers) # appending square of each numbers to the list\n",
    "sum_of_numbers = np.sum(numbers_append)  # sum of all elements using sum function\n",
    "\n",
    "print(\"List Operations:\")\n",
    "print(\"Sum of Numbers:\", sum_of_numbers)"
   ]
  },
  {
   "attachments": {},
   "cell_type": "markdown",
   "metadata": {},
   "source": [
    "Tuple Operations"
   ]
  },
  {
   "cell_type": "code",
   "execution_count": 19,
   "metadata": {},
   "outputs": [
    {
     "name": "stdout",
     "output_type": "stream",
     "text": [
      "Tuple Operations:\n",
      "Even Numbers Tuple: (2, 4, 6, 8, 10)\n",
      "Product of Numbers: 3840\n"
     ]
    }
   ],
   "source": [
    "even_numbers = np.array([2, 4, 6, 8, 10])  # array containing the first five even numbers\n",
    "even_numbers_tuple = tuple(even_numbers) # creating tuple from the even numbers array\n",
    "product_of_numbers = np.prod(even_numbers_tuple)  # the product of all elements\n",
    "\n",
    "print(\"Tuple Operations:\")\n",
    "print(\"Even Numbers Tuple:\", even_numbers_tuple)\n",
    "print(\"Product of Numbers:\", product_of_numbers)"
   ]
  },
  {
   "attachments": {},
   "cell_type": "markdown",
   "metadata": {},
   "source": [
    "Set Operations"
   ]
  },
  {
   "cell_type": "code",
   "execution_count": 9,
   "metadata": {},
   "outputs": [
    {
     "name": "stdout",
     "output_type": "stream",
     "text": [
      "Set Operations:\n",
      "Odd Set 1: [1 3 5 7]\n",
      "Odd Set 2: [3 5 7 9]\n",
      "Union of Sets: [1 3 5 7 9]\n",
      "Intersection of Sets: [3 5 7]\n"
     ]
    }
   ],
   "source": [
    "odd_set1 = np.array([1, 3, 5, 7])  # creating array of odd numbers between 1 to 10\n",
    "odd_set2 = np.array([3, 5, 7, 9])\n",
    "\n",
    "union_set = np.union1d(odd_set1, odd_set2)  # the union of the two sets using union1d function\n",
    "intersection_set = np.intersect1d(odd_set1, odd_set2)  # the intersection of the two sets using NumPy's intersect1d function\n",
    "\n",
    "print(\"Set Operations:\")\n",
    "print(\"Odd Set 1:\", odd_set1)\n",
    "print(\"Odd Set 2:\", odd_set2)\n",
    "print(\"Union of Sets:\", union_set)\n",
    "print(\"Intersection of Sets:\", intersection_set)"
   ]
  },
  {
   "attachments": {},
   "cell_type": "markdown",
   "metadata": {},
   "source": [
    "Dictionary Operations"
   ]
  },
  {
   "cell_type": "code",
   "execution_count": 24,
   "metadata": {},
   "outputs": [
    {
     "name": "stdout",
     "output_type": "stream",
     "text": [
      "Dictionary Operations:\n",
      "ASCII Dictionary: {'a': 97, 'b': 98, 'c': 99, 'd': 100, 'e': 101}\n"
     ]
    }
   ],
   "source": [
    "alphabets = ['a', 'b', 'c', 'd', 'e']\n",
    "ascii_dict = {alphabet: ord(alphabet) for alphabet in alphabets} # creating a dictionary with keys as alphabets and values as ASCII values\n",
    "\n",
    "print(\"Dictionary Operations:\")\n",
    "print(\"ASCII Dictionary:\", ascii_dict)"
   ]
  },
  {
   "attachments": {},
   "cell_type": "markdown",
   "metadata": {},
   "source": [
    "Functional Programming"
   ]
  },
  {
   "cell_type": "code",
   "execution_count": 27,
   "metadata": {},
   "outputs": [
    {
     "name": "stdout",
     "output_type": "stream",
     "text": [
      "Functional Programming:\n",
      "Numbers: [1, 2, 3, 4, 5, 6, 7, 8, 9, 10]\n",
      "Squared Numbers: [1, 4, 9, 16, 25, 36, 49, 64, 81, 100]\n"
     ]
    }
   ],
   "source": [
    "def square(x):\n",
    "    return x ** 2\n",
    "\n",
    "numbers = list(range(1, 11))\n",
    "squared_numbers = list(map(square, numbers))\n",
    "\n",
    "print(\"Functional Programming:\")\n",
    "print(\"Numbers:\", numbers)\n",
    "print(\"Squared Numbers:\", squared_numbers)"
   ]
  }
 ],
 "metadata": {
  "kernelspec": {
   "display_name": "Python 3",
   "language": "python",
   "name": "python3"
  },
  "language_info": {
   "codemirror_mode": {
    "name": "ipython",
    "version": 3
   },
   "file_extension": ".py",
   "mimetype": "text/x-python",
   "name": "python",
   "nbconvert_exporter": "python",
   "pygments_lexer": "ipython3",
   "version": "3.11.4"
  },
  "orig_nbformat": 4
 },
 "nbformat": 4,
 "nbformat_minor": 2
}
